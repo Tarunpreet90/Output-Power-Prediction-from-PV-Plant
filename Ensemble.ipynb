{
 "cells": [
  {
   "cell_type": "code",
   "execution_count": 1,
   "metadata": {},
   "outputs": [
    {
     "name": "stderr",
     "output_type": "stream",
     "text": [
      "2023-04-08 03:06:11.357497: I tensorflow/core/platform/cpu_feature_guard.cc:193] This TensorFlow binary is optimized with oneAPI Deep Neural Network Library (oneDNN) to use the following CPU instructions in performance-critical operations:  AVX2 AVX512F AVX512_VNNI FMA\n",
      "To enable them in other operations, rebuild TensorFlow with the appropriate compiler flags.\n",
      "2023-04-08 03:06:11.632933: I tensorflow/core/util/port.cc:104] oneDNN custom operations are on. You may see slightly different numerical results due to floating-point round-off errors from different computation orders. To turn them off, set the environment variable `TF_ENABLE_ONEDNN_OPTS=0`.\n",
      "2023-04-08 03:06:11.671197: W tensorflow/compiler/xla/stream_executor/platform/default/dso_loader.cc:64] Could not load dynamic library 'libcudart.so.11.0'; dlerror: libcudart.so.11.0: cannot open shared object file: No such file or directory\n",
      "2023-04-08 03:06:11.671217: I tensorflow/compiler/xla/stream_executor/cuda/cudart_stub.cc:29] Ignore above cudart dlerror if you do not have a GPU set up on your machine.\n",
      "2023-04-08 03:06:12.736370: W tensorflow/compiler/xla/stream_executor/platform/default/dso_loader.cc:64] Could not load dynamic library 'libnvinfer.so.7'; dlerror: libnvinfer.so.7: cannot open shared object file: No such file or directory\n",
      "2023-04-08 03:06:12.736651: W tensorflow/compiler/xla/stream_executor/platform/default/dso_loader.cc:64] Could not load dynamic library 'libnvinfer_plugin.so.7'; dlerror: libnvinfer_plugin.so.7: cannot open shared object file: No such file or directory\n",
      "2023-04-08 03:06:12.736657: W tensorflow/compiler/tf2tensorrt/utils/py_utils.cc:38] TF-TRT Warning: Cannot dlopen some TensorRT libraries. If you would like to use Nvidia GPU with TensorRT, please make sure the missing libraries mentioned above are installed properly.\n"
     ]
    }
   ],
   "source": [
    "# Import Basic Libraries\n",
    "import os\n",
    "import sys\n",
    "import pandas as pd\n",
    "import numpy as np\n",
    "import seaborn as sns\n",
    "import matplotlib.pyplot as plt\n",
    "from sklearn.preprocessing import StandardScaler\n",
    "from sklearn.model_selection import train_test_split\n",
    "from sklearn import metrics\n",
    "from sklearn.metrics import accuracy_score,r2_score\n",
    "from sklearn.metrics import mean_squared_error\n",
    "from sklearn.metrics import mean_absolute_error\n",
    "from sklearn.metrics import mean_absolute_percentage_error\n",
    "import pickle\n",
    "import math\n",
    "import joblib\n",
    "from sklearn.model_selection import StratifiedKFold\n",
    "from sklearn.model_selection import GridSearchCV\n",
    "\n",
    "# Import XGBoost Libraries\n",
    "import xgboost as xgb\n",
    "\n",
    "# Import Neural Network Libraries\n",
    "import tensorflow as tf\n",
    "from tensorflow import keras\n",
    "from keras.models import Sequential\n",
    "from keras.layers import Dense, SimpleRNN, LSTM, Dropout,Bidirectional\n",
    "from keras.layers.core import Dense, Activation, Dropout\n",
    "from tensorflow.keras.losses import MeanSquaredLogarithmicError\n",
    "from keras.optimizers import Adam, SGD, RMSprop, Adadelta, Adagrad, Adamax, Nadam, Ftrl\n",
    "from keras.callbacks import EarlyStopping, ModelCheckpoint\n",
    "\n",
    "from sklearn.ensemble import StackingRegressor\n",
    "from sklearn.ensemble import VotingRegressor\n",
    "from sklearn.linear_model import LinearRegression"
   ]
  },
  {
   "cell_type": "code",
   "execution_count": 2,
   "metadata": {},
   "outputs": [],
   "source": [
    "# Create function to calculate root mean square error\n",
    "def rmse(predictions, targets):\n",
    "    return np.sqrt(((predictions - targets) ** 2).mean())"
   ]
  },
  {
   "cell_type": "code",
   "execution_count": 3,
   "metadata": {},
   "outputs": [],
   "source": [
    "# Read csv file\n",
    "df=pd.read_csv('/home/tarunpreet/Desktop/Suraj/org_update.csv')\n"
   ]
  },
  {
   "cell_type": "code",
   "execution_count": 4,
   "metadata": {},
   "outputs": [],
   "source": [
    "#Groupby dataframe \n",
    "\n",
    "newdf=df.groupby(['Month','Day']).agg({'Temp': ['mean'],'DHI':['mean'],'DNI':['mean'],'GHI':['mean'],\n",
    "                                      'WindVel':['mean'],'Output_Power':['mean']})\n",
    "newdf = newdf.reset_index()\n",
    "newdf.columns=['Month','Day','Temp_Mean','DHI_Mean','DNI_Mean','GHI_Mean','WindVel_Mean','Output_Power_Mean']"
   ]
  },
  {
   "cell_type": "code",
   "execution_count": 5,
   "metadata": {},
   "outputs": [],
   "source": [
    "# Drop unnecessary columns in dataset\n",
    "newdf1=newdf.drop(labels=['Month','Day'],axis=1)\n",
    "X_data=newdf1.drop(labels=['Output_Power_Mean'],axis=1)\n",
    "Y_data=newdf1['Output_Power_Mean']"
   ]
  },
  {
   "cell_type": "code",
   "execution_count": 6,
   "metadata": {},
   "outputs": [],
   "source": [
    "# Scale the dataset to ensure that features are within the same scale using Standard Scaler\n",
    "Xscaler = StandardScaler()\n",
    "Xscaler.fit(X_data)\n",
    "SXdata= Xscaler.transform(X_data)"
   ]
  },
  {
   "cell_type": "code",
   "execution_count": 7,
   "metadata": {},
   "outputs": [],
   "source": [
    "Yscaler = StandardScaler()\n",
    "Y_data=Y_data.to_numpy().reshape(-1,1)\n",
    "Yscaler.fit(Y_data)\n",
    "SYdata= Yscaler.transform(Y_data)"
   ]
  },
  {
   "cell_type": "code",
   "execution_count": 8,
   "metadata": {},
   "outputs": [],
   "source": [
    "# Split data into windows\n",
    "\n",
    "window_size=10\n",
    "predictions=1\n",
    "x=[]\n",
    "y=[]\n",
    "for i in range(0, len(newdf1.index)-10, predictions):\n",
    "    x.append(SXdata[i:window_size+i])\n",
    "    y.append(SYdata[window_size+i])"
   ]
  },
  {
   "cell_type": "code",
   "execution_count": 9,
   "metadata": {},
   "outputs": [
    {
     "name": "stdout",
     "output_type": "stream",
     "text": [
      "(255, 10, 5) (255, 1) (64, 10, 5) (64, 1)\n"
     ]
    }
   ],
   "source": [
    "# Train Test Split\n",
    "X_train,X_test,Y_train,Y_test=train_test_split(np.array(x), np.array(y),test_size=0.20,random_state=42)\n",
    "print(X_train.shape,Y_train.shape,X_test.shape,Y_test.shape)"
   ]
  },
  {
   "cell_type": "code",
   "execution_count": 10,
   "metadata": {},
   "outputs": [],
   "source": [
    "#Reshape train and test set for LSTM Model\n",
    "\n",
    "trainX_lstm = X_train.reshape(X_train.shape[0],X_train.shape[1],X_train.shape[2])\n",
    "testX_lstm = X_test.reshape(X_test.shape[0],X_test.shape[1],X_test.shape[2])"
   ]
  },
  {
   "cell_type": "code",
   "execution_count": 11,
   "metadata": {},
   "outputs": [
    {
     "name": "stdout",
     "output_type": "stream",
     "text": [
      "model used in LSTM\n"
     ]
    },
    {
     "name": "stderr",
     "output_type": "stream",
     "text": [
      "2023-04-08 03:11:29.527099: W tensorflow/compiler/xla/stream_executor/platform/default/dso_loader.cc:64] Could not load dynamic library 'libcuda.so.1'; dlerror: libcuda.so.1: cannot open shared object file: No such file or directory\n",
      "2023-04-08 03:11:29.527361: W tensorflow/compiler/xla/stream_executor/cuda/cuda_driver.cc:265] failed call to cuInit: UNKNOWN ERROR (303)\n",
      "2023-04-08 03:11:29.527403: I tensorflow/compiler/xla/stream_executor/cuda/cuda_diagnostics.cc:156] kernel driver does not appear to be running on this host (tarun): /proc/driver/nvidia/version does not exist\n",
      "2023-04-08 03:11:29.528322: I tensorflow/core/platform/cpu_feature_guard.cc:193] This TensorFlow binary is optimized with oneAPI Deep Neural Network Library (oneDNN) to use the following CPU instructions in performance-critical operations:  AVX2 AVX512F AVX512_VNNI FMA\n",
      "To enable them in other operations, rebuild TensorFlow with the appropriate compiler flags.\n"
     ]
    },
    {
     "name": "stdout",
     "output_type": "stream",
     "text": [
      "Model: \"sequential\"\n",
      "_________________________________________________________________\n",
      " Layer (type)                Output Shape              Param #   \n",
      "=================================================================\n",
      " lstm (LSTM)                 (None, 10, 36)            6048      \n",
      "                                                                 \n",
      " lstm_1 (LSTM)               (None, 10)                1880      \n",
      "                                                                 \n",
      " dense (Dense)               (None, 5)                 55        \n",
      "                                                                 \n",
      " dense_1 (Dense)             (None, 1)                 6         \n",
      "                                                                 \n",
      "=================================================================\n",
      "Total params: 7,989\n",
      "Trainable params: 7,989\n",
      "Non-trainable params: 0\n",
      "_________________________________________________________________\n"
     ]
    }
   ],
   "source": [
    "# Define Long Short Term Memory (LSTM Model)\n",
    "\n",
    "print('model used in LSTM')\n",
    "lstm = Sequential()\n",
    "lstm.add(LSTM(input_shape = (10,5),units= 36,  activation='relu',return_sequences = True))\n",
    "lstm.add(LSTM(10))\n",
    "lstm.add(Dense(5, activation='relu'))\n",
    "lstm.add(Dense(1))\n",
    "lstm.summary()"
   ]
  },
  {
   "cell_type": "code",
   "execution_count": 12,
   "metadata": {},
   "outputs": [],
   "source": [
    "# Early stopping stop training once the model performance stops improving\n",
    "early_stopping = tf.keras.callbacks.EarlyStopping(monitor='val_loss',patience=2,mode='min')"
   ]
  },
  {
   "cell_type": "code",
   "execution_count": 13,
   "metadata": {},
   "outputs": [
    {
     "name": "stdout",
     "output_type": "stream",
     "text": [
      "Epoch 1/100\n",
      "3/3 [==============================] - 3s 210ms/step - loss: 1.0430 - mae: 0.8553 - val_loss: 0.9534 - val_mae: 0.8059\n",
      "Epoch 2/100\n",
      "3/3 [==============================] - 0s 19ms/step - loss: 1.0022 - mae: 0.8336 - val_loss: 0.9275 - val_mae: 0.7936\n",
      "Epoch 3/100\n",
      "3/3 [==============================] - 0s 19ms/step - loss: 0.9682 - mae: 0.8144 - val_loss: 0.9016 - val_mae: 0.7789\n",
      "Epoch 4/100\n",
      "3/3 [==============================] - 0s 15ms/step - loss: 0.9377 - mae: 0.7944 - val_loss: 0.8758 - val_mae: 0.7624\n",
      "Epoch 5/100\n",
      "3/3 [==============================] - 0s 18ms/step - loss: 0.9104 - mae: 0.7734 - val_loss: 0.8524 - val_mae: 0.7452\n",
      "Epoch 6/100\n",
      "3/3 [==============================] - 0s 15ms/step - loss: 0.8861 - mae: 0.7530 - val_loss: 0.8306 - val_mae: 0.7283\n",
      "Epoch 7/100\n",
      "3/3 [==============================] - 0s 17ms/step - loss: 0.8607 - mae: 0.7358 - val_loss: 0.8097 - val_mae: 0.7134\n",
      "Epoch 8/100\n",
      "3/3 [==============================] - 0s 20ms/step - loss: 0.8374 - mae: 0.7242 - val_loss: 0.7927 - val_mae: 0.7037\n",
      "Epoch 9/100\n",
      "3/3 [==============================] - 0s 17ms/step - loss: 0.8080 - mae: 0.7111 - val_loss: 0.7742 - val_mae: 0.6927\n",
      "Epoch 10/100\n",
      "3/3 [==============================] - 0s 16ms/step - loss: 0.7824 - mae: 0.6989 - val_loss: 0.7589 - val_mae: 0.6834\n",
      "Epoch 11/100\n",
      "3/3 [==============================] - 0s 18ms/step - loss: 0.7590 - mae: 0.6892 - val_loss: 0.7339 - val_mae: 0.6718\n",
      "Epoch 12/100\n",
      "3/3 [==============================] - 0s 17ms/step - loss: 0.7345 - mae: 0.6789 - val_loss: 0.7001 - val_mae: 0.6568\n",
      "Epoch 13/100\n",
      "3/3 [==============================] - 0s 21ms/step - loss: 0.7083 - mae: 0.6636 - val_loss: 0.6685 - val_mae: 0.6398\n",
      "Epoch 14/100\n",
      "3/3 [==============================] - 0s 17ms/step - loss: 0.6822 - mae: 0.6467 - val_loss: 0.6373 - val_mae: 0.6194\n",
      "Epoch 15/100\n",
      "3/3 [==============================] - 0s 17ms/step - loss: 0.6574 - mae: 0.6267 - val_loss: 0.6067 - val_mae: 0.5962\n",
      "Epoch 16/100\n",
      "3/3 [==============================] - 0s 16ms/step - loss: 0.6340 - mae: 0.6098 - val_loss: 0.5789 - val_mae: 0.5795\n",
      "Epoch 17/100\n",
      "3/3 [==============================] - 0s 27ms/step - loss: 0.6091 - mae: 0.5998 - val_loss: 0.5573 - val_mae: 0.5766\n",
      "Epoch 18/100\n",
      "3/3 [==============================] - 0s 17ms/step - loss: 0.5815 - mae: 0.5960 - val_loss: 0.5562 - val_mae: 0.5857\n",
      "Epoch 19/100\n",
      "3/3 [==============================] - 0s 18ms/step - loss: 0.5589 - mae: 0.5954 - val_loss: 0.5204 - val_mae: 0.5604\n",
      "Epoch 20/100\n",
      "3/3 [==============================] - 0s 17ms/step - loss: 0.5276 - mae: 0.5696 - val_loss: 0.4731 - val_mae: 0.5175\n",
      "Epoch 21/100\n",
      "3/3 [==============================] - 0s 19ms/step - loss: 0.5078 - mae: 0.5599 - val_loss: 0.4543 - val_mae: 0.5073\n",
      "Epoch 22/100\n",
      "3/3 [==============================] - 0s 21ms/step - loss: 0.4848 - mae: 0.5434 - val_loss: 0.4518 - val_mae: 0.5155\n",
      "Epoch 23/100\n",
      "3/3 [==============================] - 0s 18ms/step - loss: 0.4639 - mae: 0.5341 - val_loss: 0.4596 - val_mae: 0.5237\n",
      "Epoch 24/100\n",
      "3/3 [==============================] - 0s 17ms/step - loss: 0.4454 - mae: 0.5201 - val_loss: 0.4484 - val_mae: 0.5007\n",
      "Epoch 25/100\n",
      "3/3 [==============================] - 0s 17ms/step - loss: 0.4294 - mae: 0.5004 - val_loss: 0.4632 - val_mae: 0.5089\n",
      "Epoch 26/100\n",
      "3/3 [==============================] - 0s 17ms/step - loss: 0.4157 - mae: 0.4882 - val_loss: 0.4987 - val_mae: 0.5299\n"
     ]
    },
    {
     "data": {
      "image/png": "[encoded data removed]",
      "text/plain": [
       "<Figure size 432x288 with 1 Axes>"
      ]
     },
     "metadata": {
      "needs_background": "light"
     },
     "output_type": "display_data"
    }
   ],
   "source": [
    "# Compile the model\n",
    "lstm.compile(loss='mse', optimizer='adam',metrics=['mae'])\n",
    "history_lstm = lstm.fit(trainX_lstm, Y_train, epochs = 100, verbose=1,validation_split=0.1,batch_size=100, callbacks=[early_stopping])\n",
    "plt.plot(history_lstm.history['loss'])\n",
    "plt.plot(history_lstm.history['val_loss'])\n",
    "plt.title('Model Loss Progression During Training/Validation')\n",
    "plt.ylabel('Training and Validation Losses')\n",
    "plt.xlabel('Epoch Number')\n",
    "plt.legend(['Training Loss', 'Validation Loss'])\n",
    "plt.show()"
   ]
  },
  {
   "cell_type": "code",
   "execution_count": 14,
   "metadata": {},
   "outputs": [
    {
     "name": "stdout",
     "output_type": "stream",
     "text": [
      "2/2 [==============================] - 0s 3ms/step\n"
     ]
    }
   ],
   "source": [
    "# Test the model\n",
    "ypred_lstm = lstm.predict(testX_lstm)"
   ]
  },
  {
   "cell_type": "code",
   "execution_count": 15,
   "metadata": {},
   "outputs": [
    {
     "name": "stdout",
     "output_type": "stream",
     "text": [
      "Predicted values [[3403.1091 ]\n",
      " [1381.4282 ]\n",
      " [ 709.8684 ]\n",
      " [1591.6356 ]\n",
      " [ 883.92456]\n",
      " [3508.7754 ]\n",
      " [1700.3031 ]\n",
      " [1779.3096 ]\n",
      " [3528.1306 ]\n",
      " [3229.9817 ]\n",
      " [ 485.88904]\n",
      " [3398.6921 ]\n",
      " [1798.304  ]\n",
      " [1637.2085 ]\n",
      " [1450.4551 ]\n",
      " [3500.9998 ]\n",
      " [1768.9396 ]\n",
      " [2189.0105 ]\n",
      " [ 461.02576]\n",
      " [1379.635  ]\n",
      " [1685.961  ]\n",
      " [1762.9467 ]\n",
      " [1468.626  ]\n",
      " [3235.102  ]\n",
      " [1103.6677 ]\n",
      " [3327.6587 ]\n",
      " [ 511.83008]\n",
      " [1706.905  ]\n",
      " [3344.5664 ]\n",
      " [1812.9496 ]\n",
      " [2419.7043 ]\n",
      " [ 854.02594]\n",
      " [1605.9386 ]\n",
      " [ 584.8679 ]\n",
      " [ 437.52332]\n",
      " [3399.5154 ]\n",
      " [1688.7384 ]\n",
      " [1571.0876 ]\n",
      " [2754.62   ]\n",
      " [1573.5112 ]\n",
      " [ 938.43134]\n",
      " [1968.0885 ]\n",
      " [ 413.8246 ]\n",
      " [ 397.4049 ]\n",
      " [1779.5106 ]\n",
      " [ 815.3515 ]\n",
      " [2519.4224 ]\n",
      " [1923.302  ]\n",
      " [1471.0276 ]\n",
      " [3345.4067 ]\n",
      " [3176.9272 ]\n",
      " [1806.83   ]\n",
      " [1723.543  ]\n",
      " [1538.9723 ]\n",
      " [1105.5984 ]\n",
      " [1757.8234 ]\n",
      " [3501.5183 ]\n",
      " [3464.7402 ]\n",
      " [ 652.0354 ]\n",
      " [1295.8574 ]\n",
      " [1570.4763 ]\n",
      " [3337.2383 ]\n",
      " [3589.9968 ]\n",
      " [2979.6099 ]]\n",
      "Actual values [[1186.93875   ]\n",
      " [2021.54666667]\n",
      " [1775.45416667]\n",
      " [2336.17333333]\n",
      " [1199.94208333]\n",
      " [2722.03416667]\n",
      " [1633.24375   ]\n",
      " [2084.32916667]\n",
      " [3856.09333333]\n",
      " [2395.29708333]\n",
      " [ 327.66666667]\n",
      " [2820.7225    ]\n",
      " [1050.69291667]\n",
      " [2387.71125   ]\n",
      " [1236.29833333]\n",
      " [3684.55416667]\n",
      " [2338.21875   ]\n",
      " [2788.14666667]\n",
      " [ 116.55458333]\n",
      " [3411.74791667]\n",
      " [1715.57333333]\n",
      " [2413.19020833]\n",
      " [1301.55916667]\n",
      " [5289.48625   ]\n",
      " [1120.86833333]\n",
      " [3529.37875   ]\n",
      " [  43.00041667]\n",
      " [ 190.13      ]\n",
      " [5090.88875   ]\n",
      " [2030.29333333]\n",
      " [1994.55416667]\n",
      " [ 379.74958333]\n",
      " [1628.385     ]\n",
      " [ 303.10791667]\n",
      " [ 170.06541667]\n",
      " [3642.56791667]\n",
      " [1818.02958333]\n",
      " [2215.26      ]\n",
      " [1749.98916667]\n",
      " [1782.54375   ]\n",
      " [ 472.6475    ]\n",
      " [1956.94291667]\n",
      " [ 205.1725    ]\n",
      " [ 676.45916667]\n",
      " [2966.24375   ]\n",
      " [ 889.99791667]\n",
      " [2054.97541667]\n",
      " [2127.775     ]\n",
      " [2435.33458333]\n",
      " [2757.345     ]\n",
      " [2871.42375   ]\n",
      " [ 323.42791667]\n",
      " [2621.48333333]\n",
      " [3347.47458333]\n",
      " [1067.04458333]\n",
      " [1766.79958333]\n",
      " [3444.83125   ]\n",
      " [3699.42708333]\n",
      " [ 273.03041667]\n",
      " [2237.005     ]\n",
      " [1900.06375   ]\n",
      " [3664.16833333]\n",
      " [4943.98541667]\n",
      " [2086.11677083]]\n"
     ]
    }
   ],
   "source": [
    "# Tranform the scale data\n",
    "Ypred_lstm= Yscaler.inverse_transform(ypred_lstm)\n",
    "Ytest = Yscaler.inverse_transform(Y_test)\n",
    "print(\"Predicted values\",Ypred_lstm)\n",
    "print(\"Actual values\",Ytest)"
   ]
  },
  {
   "cell_type": "code",
   "execution_count": 16,
   "metadata": {},
   "outputs": [
    {
     "name": "stdout",
     "output_type": "stream",
     "text": [
      "X_train shape: (255, 50)\n",
      "X_test shape: (64, 50)\n"
     ]
    }
   ],
   "source": [
    "#Reshape train and test dataset for xgboost model\n",
    "X_train_xgboost = X_train.reshape(X_train.shape[0], -1)\n",
    "X_test_xgboost = X_test.reshape(X_test.shape[0], -1)\n",
    "\n",
    "print(f\"X_train shape: {X_train_xgboost.shape}\")\n",
    "print(f\"X_test shape: {X_test_xgboost.shape}\")"
   ]
  },
  {
   "cell_type": "code",
   "execution_count": 17,
   "metadata": {},
   "outputs": [
    {
     "name": "stdout",
     "output_type": "stream",
     "text": [
      "Best: -0.540764 using {'max_depth': 7, 'n_estimators': 70, 'reg_lambda': 0.2} for XGBRegressor(base_score=None, booster=None, callbacks=None,\n",
      "             colsample_bylevel=None, colsample_bynode=None,\n",
      "             colsample_bytree=None, early_stopping_rounds=None,\n",
      "             enable_categorical=False, eval_metric=None, feature_types=None,\n",
      "             gamma=None, gpu_id=None, grow_policy=None, importance_type=None,\n",
      "             interaction_constraints=None, learning_rate=None, max_bin=None,\n",
      "             max_cat_threshold=None, max_cat_to_onehot=None,\n",
      "             max_delta_step=None, max_depth=7, max_leaves=None,\n",
      "             min_child_weight=None, missing=nan, monotone_constraints=None,\n",
      "             n_estimators=70, n_jobs=None, num_parallel_tree=None,\n",
      "             predictor=None, random_state=None, ...)\n"
     ]
    }
   ],
   "source": [
    "cv = StratifiedKFold(n_splits=5,random_state=1,shuffle=True)\n",
    "param_xgb = {'n_estimators': [70,60,50,40,30], 'max_depth': [7, 8], 'reg_lambda' :[0.25, 0.2,0.15]}\n",
    "XGB_reg=GridSearchCV(xgb.XGBRegressor(), param_xgb, scoring='neg_mean_absolute_error', cv=3, return_train_score=True,n_jobs=-1)\n",
    "optimized_xgb_reg=XGB_reg.fit(X_train_xgboost,Y_train)\n",
    "print(\"Best: %f using %s for %s\" % (optimized_xgb_reg.best_score_,optimized_xgb_reg.best_params_,optimized_xgb_reg.best_estimator_))\n",
    "model=optimized_xgb_reg.best_estimator_"
   ]
  },
  {
   "cell_type": "code",
   "execution_count": 18,
   "metadata": {},
   "outputs": [
    {
     "data": {
      "text/html": [
       "<style>#sk-container-id-1 {color: black;background-color: white;}#sk-container-id-1 pre{padding: 0;}#sk-container-id-1 div.sk-toggleable {background-color: white;}#sk-container-id-1 label.sk-toggleable__label {cursor: pointer;display: block;width: 100%;margin-bottom: 0;padding: 0.3em;box-sizing: border-box;text-align: center;}#sk-container-id-1 label.sk-toggleable__label-arrow:before {content: \"▸\";float: left;margin-right: 0.25em;color: #696969;}#sk-container-id-1 label.sk-toggleable__label-arrow:hover:before {color: black;}#sk-container-id-1 div.sk-estimator:hover label.sk-toggleable__label-arrow:before {color: black;}#sk-container-id-1 div.sk-toggleable__content {max-height: 0;max-width: 0;overflow: hidden;text-align: left;background-color: #f0f8ff;}#sk-container-id-1 div.sk-toggleable__content pre {margin: 0.2em;color: black;border-radius: 0.25em;background-color: #f0f8ff;}#sk-container-id-1 input.sk-toggleable__control:checked~div.sk-toggleable__content {max-height: 200px;max-width: 100%;overflow: auto;}#sk-container-id-1 input.sk-toggleable__control:checked~label.sk-toggleable__label-arrow:before {content: \"▾\";}#sk-container-id-1 div.sk-estimator input.sk-toggleable__control:checked~label.sk-toggleable__label {background-color: #d4ebff;}#sk-container-id-1 div.sk-label input.sk-toggleable__control:checked~label.sk-toggleable__label {background-color: #d4ebff;}#sk-container-id-1 input.sk-hidden--visually {border: 0;clip: rect(1px 1px 1px 1px);clip: rect(1px, 1px, 1px, 1px);height: 1px;margin: -1px;overflow: hidden;padding: 0;position: absolute;width: 1px;}#sk-container-id-1 div.sk-estimator {font-family: monospace;background-color: #f0f8ff;border: 1px dotted black;border-radius: 0.25em;box-sizing: border-box;margin-bottom: 0.5em;}#sk-container-id-1 div.sk-estimator:hover {background-color: #d4ebff;}#sk-container-id-1 div.sk-parallel-item::after {content: \"\";width: 100%;border-bottom: 1px solid gray;flex-grow: 1;}#sk-container-id-1 div.sk-label:hover label.sk-toggleable__label {background-color: #d4ebff;}#sk-container-id-1 div.sk-serial::before {content: \"\";position: absolute;border-left: 1px solid gray;box-sizing: border-box;top: 0;bottom: 0;left: 50%;z-index: 0;}#sk-container-id-1 div.sk-serial {display: flex;flex-direction: column;align-items: center;background-color: white;padding-right: 0.2em;padding-left: 0.2em;position: relative;}#sk-container-id-1 div.sk-item {position: relative;z-index: 1;}#sk-container-id-1 div.sk-parallel {display: flex;align-items: stretch;justify-content: center;background-color: white;position: relative;}#sk-container-id-1 div.sk-item::before, #sk-container-id-1 div.sk-parallel-item::before {content: \"\";position: absolute;border-left: 1px solid gray;box-sizing: border-box;top: 0;bottom: 0;left: 50%;z-index: -1;}#sk-container-id-1 div.sk-parallel-item {display: flex;flex-direction: column;z-index: 1;position: relative;background-color: white;}#sk-container-id-1 div.sk-parallel-item:first-child::after {align-self: flex-end;width: 50%;}#sk-container-id-1 div.sk-parallel-item:last-child::after {align-self: flex-start;width: 50%;}#sk-container-id-1 div.sk-parallel-item:only-child::after {width: 0;}#sk-container-id-1 div.sk-dashed-wrapped {border: 1px dashed gray;margin: 0 0.4em 0.5em 0.4em;box-sizing: border-box;padding-bottom: 0.4em;background-color: white;}#sk-container-id-1 div.sk-label label {font-family: monospace;font-weight: bold;display: inline-block;line-height: 1.2em;}#sk-container-id-1 div.sk-label-container {text-align: center;}#sk-container-id-1 div.sk-container {/* jupyter's `normalize.less` sets `[hidden] { display: none; }` but bootstrap.min.css set `[hidden] { display: none !important; }` so we also need the `!important` here to be able to override the default hidden behavior on the sphinx rendered scikit-learn.org. See: https://github.com/scikit-learn/scikit-learn/issues/21755 */display: inline-block !important;position: relative;}#sk-container-id-1 div.sk-text-repr-fallback {display: none;}</style><div id=\"sk-container-id-1\" class=\"sk-top-container\"><div class=\"sk-text-repr-fallback\"><pre>XGBRegressor(base_score=None, booster=None, callbacks=None,\n",
       "             colsample_bylevel=None, colsample_bynode=None,\n",
       "             colsample_bytree=None, early_stopping_rounds=None,\n",
       "             enable_categorical=False, eval_metric=None, feature_types=None,\n",
       "             gamma=None, gpu_id=None, grow_policy=None, importance_type=None,\n",
       "             interaction_constraints=None, learning_rate=None, max_bin=None,\n",
       "             max_cat_threshold=None, max_cat_to_onehot=None,\n",
       "             max_delta_step=None, max_depth=7, max_leaves=None,\n",
       "             min_child_weight=None, missing=nan, monotone_constraints=None,\n",
       "             n_estimators=70, n_jobs=None, num_parallel_tree=None,\n",
       "             predictor=None, random_state=None, ...)</pre><b>In a Jupyter environment, please rerun this cell to show the HTML representation or trust the notebook. <br />On GitHub, the HTML representation is unable to render, please try loading this page with nbviewer.org.</b></div><div class=\"sk-container\" hidden><div class=\"sk-item\"><div class=\"sk-estimator sk-toggleable\"><input class=\"sk-toggleable__control sk-hidden--visually\" id=\"sk-estimator-id-1\" type=\"checkbox\" checked><label for=\"sk-estimator-id-1\" class=\"sk-toggleable__label sk-toggleable__label-arrow\">XGBRegressor</label><div class=\"sk-toggleable__content\"><pre>XGBRegressor(base_score=None, booster=None, callbacks=None,\n",
       "             colsample_bylevel=None, colsample_bynode=None,\n",
       "             colsample_bytree=None, early_stopping_rounds=None,\n",
       "             enable_categorical=False, eval_metric=None, feature_types=None,\n",
       "             gamma=None, gpu_id=None, grow_policy=None, importance_type=None,\n",
       "             interaction_constraints=None, learning_rate=None, max_bin=None,\n",
       "             max_cat_threshold=None, max_cat_to_onehot=None,\n",
       "             max_delta_step=None, max_depth=7, max_leaves=None,\n",
       "             min_child_weight=None, missing=nan, monotone_constraints=None,\n",
       "             n_estimators=70, n_jobs=None, num_parallel_tree=None,\n",
       "             predictor=None, random_state=None, ...)</pre></div></div></div></div></div>"
      ],
      "text/plain": [
       "XGBRegressor(base_score=None, booster=None, callbacks=None,\n",
       "             colsample_bylevel=None, colsample_bynode=None,\n",
       "             colsample_bytree=None, early_stopping_rounds=None,\n",
       "             enable_categorical=False, eval_metric=None, feature_types=None,\n",
       "             gamma=None, gpu_id=None, grow_policy=None, importance_type=None,\n",
       "             interaction_constraints=None, learning_rate=None, max_bin=None,\n",
       "             max_cat_threshold=None, max_cat_to_onehot=None,\n",
       "             max_delta_step=None, max_depth=7, max_leaves=None,\n",
       "             min_child_weight=None, missing=nan, monotone_constraints=None,\n",
       "             n_estimators=70, n_jobs=None, num_parallel_tree=None,\n",
       "             predictor=None, random_state=None, ...)"
      ]
     },
     "execution_count": 18,
     "metadata": {},
     "output_type": "execute_result"
    }
   ],
   "source": [
    "model.fit(X_train_xgboost, Y_train) "
   ]
  },
  {
   "cell_type": "code",
   "execution_count": 19,
   "metadata": {},
   "outputs": [],
   "source": [
    "# Test the model\n",
    "ypred_xgboost =model.predict(X_test_xgboost)\n",
    "ypred_xgboost=ypred_xgboost.reshape(-1,1)"
   ]
  },
  {
   "cell_type": "code",
   "execution_count": 20,
   "metadata": {},
   "outputs": [
    {
     "name": "stdout",
     "output_type": "stream",
     "text": [
      "Predicted values [[4285.8257  ]\n",
      " [ 866.3207  ]\n",
      " [1433.7875  ]\n",
      " [1339.7949  ]\n",
      " [1715.3171  ]\n",
      " [4471.6997  ]\n",
      " [1842.378   ]\n",
      " [1894.5234  ]\n",
      " [3775.8953  ]\n",
      " [2158.9978  ]\n",
      " [ 457.36267 ]\n",
      " [2651.1335  ]\n",
      " [1583.748   ]\n",
      " [2358.47    ]\n",
      " [1645.6882  ]\n",
      " [3035.7896  ]\n",
      " [2129.2888  ]\n",
      " [2775.5308  ]\n",
      " [ 144.4469  ]\n",
      " [2848.2966  ]\n",
      " [2185.5315  ]\n",
      " [2045.355   ]\n",
      " [1071.8708  ]\n",
      " [3075.729   ]\n",
      " [3348.905   ]\n",
      " [1988.8569  ]\n",
      " [ 181.02026 ]\n",
      " [1480.2792  ]\n",
      " [4356.524   ]\n",
      " [2040.4159  ]\n",
      " [2609.8433  ]\n",
      " [ 521.3617  ]\n",
      " [1532.0814  ]\n",
      " [ 418.0996  ]\n",
      " [ 110.232414]\n",
      " [3154.055   ]\n",
      " [ 806.10126 ]\n",
      " [1468.2576  ]\n",
      " [2656.226   ]\n",
      " [1036.0171  ]\n",
      " [ 296.80872 ]\n",
      " [2104.9653  ]\n",
      " [ 476.10413 ]\n",
      " [ 308.38586 ]\n",
      " [1310.6733  ]\n",
      " [ 694.38745 ]\n",
      " [2438.0508  ]\n",
      " [2661.2852  ]\n",
      " [1314.7725  ]\n",
      " [2923.5295  ]\n",
      " [1774.1825  ]\n",
      " [2028.2389  ]\n",
      " [1898.4083  ]\n",
      " [1251.6854  ]\n",
      " [ 553.0493  ]\n",
      " [1497.0099  ]\n",
      " [2893.4602  ]\n",
      " [3237.0276  ]\n",
      " [1557.4438  ]\n",
      " [1016.64386 ]\n",
      " [1231.9893  ]\n",
      " [3969.9058  ]\n",
      " [4018.2087  ]\n",
      " [1455.6827  ]]\n",
      "Actual values [[1186.93875   ]\n",
      " [2021.54666667]\n",
      " [1775.45416667]\n",
      " [2336.17333333]\n",
      " [1199.94208333]\n",
      " [2722.03416667]\n",
      " [1633.24375   ]\n",
      " [2084.32916667]\n",
      " [3856.09333333]\n",
      " [2395.29708333]\n",
      " [ 327.66666667]\n",
      " [2820.7225    ]\n",
      " [1050.69291667]\n",
      " [2387.71125   ]\n",
      " [1236.29833333]\n",
      " [3684.55416667]\n",
      " [2338.21875   ]\n",
      " [2788.14666667]\n",
      " [ 116.55458333]\n",
      " [3411.74791667]\n",
      " [1715.57333333]\n",
      " [2413.19020833]\n",
      " [1301.55916667]\n",
      " [5289.48625   ]\n",
      " [1120.86833333]\n",
      " [3529.37875   ]\n",
      " [  43.00041667]\n",
      " [ 190.13      ]\n",
      " [5090.88875   ]\n",
      " [2030.29333333]\n",
      " [1994.55416667]\n",
      " [ 379.74958333]\n",
      " [1628.385     ]\n",
      " [ 303.10791667]\n",
      " [ 170.06541667]\n",
      " [3642.56791667]\n",
      " [1818.02958333]\n",
      " [2215.26      ]\n",
      " [1749.98916667]\n",
      " [1782.54375   ]\n",
      " [ 472.6475    ]\n",
      " [1956.94291667]\n",
      " [ 205.1725    ]\n",
      " [ 676.45916667]\n",
      " [2966.24375   ]\n",
      " [ 889.99791667]\n",
      " [2054.97541667]\n",
      " [2127.775     ]\n",
      " [2435.33458333]\n",
      " [2757.345     ]\n",
      " [2871.42375   ]\n",
      " [ 323.42791667]\n",
      " [2621.48333333]\n",
      " [3347.47458333]\n",
      " [1067.04458333]\n",
      " [1766.79958333]\n",
      " [3444.83125   ]\n",
      " [3699.42708333]\n",
      " [ 273.03041667]\n",
      " [2237.005     ]\n",
      " [1900.06375   ]\n",
      " [3664.16833333]\n",
      " [4943.98541667]\n",
      " [2086.11677083]]\n"
     ]
    }
   ],
   "source": [
    "# Tranform the scale data\n",
    "Ypred_xgboost = Yscaler.inverse_transform(ypred_xgboost)\n",
    "Ytest = Yscaler.inverse_transform(Y_test)\n",
    "print(\"Predicted values\",Ypred_xgboost)\n",
    "print(\"Actual values\",Ytest)"
   ]
  },
  {
   "cell_type": "code",
   "execution_count": 21,
   "metadata": {},
   "outputs": [
    {
     "name": "stdout",
     "output_type": "stream",
     "text": [
      "mean square error of LSTM 642931.3982672286\n",
      "mean absolute error of LSTM 589.9592219416301\n",
      "mean abs_percentage_error of LSTM 0.7473925285183124\n",
      "root_mean square error of LSTM 801.8300307840987\n",
      "R2_score of LSTM 0.5863588877173873\n"
     ]
    }
   ],
   "source": [
    "# Evaluate the LSTM model using Regression Metrics\n",
    "mse_lstm = mean_squared_error(Ytest, Ypred_lstm)\n",
    "mae_lstm = mean_absolute_error(Ytest,Ypred_lstm)\n",
    "mape_lstm = mean_absolute_percentage_error(Ytest, Ypred_lstm)\n",
    "rms_error_lstm = rmse(Ytest, Ypred_lstm)\n",
    "R2_score_lstm=metrics.r2_score(Ytest, Ypred_lstm)\n",
    "print('mean square error of LSTM',mse_lstm)\n",
    "print('mean absolute error of LSTM',mae_lstm)\n",
    "print('mean abs_percentage_error of LSTM',mape_lstm)\n",
    "print('root_mean square error of LSTM',rms_error_lstm)\n",
    "print('R2_score of LSTM', R2_score_lstm)"
   ]
  },
  {
   "cell_type": "code",
   "execution_count": 22,
   "metadata": {},
   "outputs": [
    {
     "name": "stdout",
     "output_type": "stream",
     "text": [
      "mean square error of XGBOOST 857191.8124928549\n",
      "mean absolute error of XGBOOST 670.7281292390824\n",
      "mean abs_percentage_error of XGBOOST 0.6549420170375612\n",
      "root_mean square error of XGBOOST 925.8465383058117\n",
      "R2_score of XGBOOST 0.4485107186945635\n"
     ]
    }
   ],
   "source": [
    "# Evaluate the XGBoost model using Regression Metrics\n",
    "mse_xgboost = mean_squared_error(Ytest, Ypred_xgboost)\n",
    "mae_xgboost = mean_absolute_error(Ytest,Ypred_xgboost)\n",
    "mape_xgboost = mean_absolute_percentage_error(Ytest, Ypred_xgboost)\n",
    "rms_error_xgboost = rmse(Ytest, Ypred_xgboost)\n",
    "R2_score_xgboost=metrics.r2_score(Ytest, Ypred_xgboost)\n",
    "print('mean square error of XGBOOST',mse_xgboost)\n",
    "print('mean absolute error of XGBOOST',mae_xgboost)\n",
    "print('mean abs_percentage_error of XGBOOST',mape_xgboost)\n",
    "print('root_mean square error of XGBOOST',rms_error_xgboost)\n",
    "print('R2_score of XGBOOST', R2_score_xgboost)"
   ]
  },
  {
   "cell_type": "code",
   "execution_count": 27,
   "metadata": {},
   "outputs": [],
   "source": [
    "#Ensemble method\n",
    "Ypred_ensemble=((1-(mae_xgboost/(mae_lstm+mae_xgboost)))*Ypred_xgboost)+((1-(mae_lstm/(mae_lstm+mae_xgboost)))*Ypred_lstm)"
   ]
  },
  {
   "cell_type": "code",
   "execution_count": 30,
   "metadata": {},
   "outputs": [
    {
     "data": {
      "text/plain": [
       "0.46796632122079795"
      ]
     },
     "execution_count": 30,
     "metadata": {},
     "output_type": "execute_result"
    }
   ],
   "source": [
    "(1-(mae_xgboost/(mae_lstm+mae_xgboost)))"
   ]
  },
  {
   "cell_type": "code",
   "execution_count": 33,
   "metadata": {},
   "outputs": [
    {
     "data": {
      "text/plain": [
       "0.5320336787792022"
      ]
     },
     "execution_count": 33,
     "metadata": {},
     "output_type": "execute_result"
    }
   ],
   "source": [
    "(1-(mae_lstm/(mae_lstm+mae_xgboost)))"
   ]
  },
  {
   "cell_type": "code",
   "execution_count": 34,
   "metadata": {},
   "outputs": [
    {
     "name": "stdout",
     "output_type": "stream",
     "text": [
      "mean square error of Ensemble 638570.746324583\n",
      "mean absolute error of Ensemble 585.6631962839763\n",
      "mean abs_percentage_error of Ensemble 0.6742129615529613\n",
      "root_mean square error of Ensemble 799.1062171730257\n",
      "R2_score of Ensemble 0.5891643890892204\n"
     ]
    }
   ],
   "source": [
    "# Evaluate the XGBoost model using Regression Metrics\n",
    "mse_ensemble = mean_squared_error(Ytest, Ypred_ensemble)\n",
    "mae_ensemble = mean_absolute_error(Ytest,Ypred_ensemble)\n",
    "mape_ensemble = mean_absolute_percentage_error(Ytest, Ypred_ensemble)\n",
    "rms_error_ensemble = rmse(Ytest, Ypred_ensemble)\n",
    "R2_score_ensemble=metrics.r2_score(Ytest, Ypred_ensemble)\n",
    "print('mean square error of Ensemble',mse_ensemble)\n",
    "print('mean absolute error of Ensemble',mae_ensemble)\n",
    "print('mean abs_percentage_error of Ensemble',mape_ensemble)\n",
    "print('root_mean square error of Ensemble',rms_error_ensemble)\n",
    "print('R2_score of Ensemble', R2_score_ensemble)"
   ]
  },
  {
   "cell_type": "code",
   "execution_count": 37,
   "metadata": {},
   "outputs": [
    {
     "data": {
      "image/png": "[encoded data removed]",
      "text/plain": [
       "<Figure size 432x288 with 1 Axes>"
      ]
     },
     "metadata": {
      "needs_background": "light"
     },
     "output_type": "display_data"
    }
   ],
   "source": [
    "plt.plot(Ypred_lstm)\n",
    "plt.plot(Ypred_xgboost)\n",
    "plt.plot(Ypred_ensemble)\n",
    "plt.plot(Ytest)\n",
    "plt.title('Comparison of predicted and actual values')\n",
    "plt.ylabel('Output Power')\n",
    "plt.xlabel('Day')\n",
    "plt.legend(['Predicted LSTM values', 'Predicted Xgboost values','Ensemble values','Actual Values'])\n",
    "plt.show()"
   ]
  },
  {
   "cell_type": "code",
   "execution_count": null,
   "metadata": {},
   "outputs": [],
   "source": []
  },
  {
   "cell_type": "code",
   "execution_count": null,
   "metadata": {},
   "outputs": [],
   "source": []
  }
 ],
 "metadata": {
  "kernelspec": {
   "display_name": "Python 3 (ipykernel)",
   "language": "python",
   "name": "python3"
  },
  "language_info": {
   "codemirror_mode": {
    "name": "ipython",
    "version": 3
   },
   "file_extension": ".py",
   "mimetype": "text/x-python",
   "name": "python",
   "nbconvert_exporter": "python",
   "pygments_lexer": "ipython3",
   "version": "3.8.12"
  }
 },
 "nbformat": 4,
 "nbformat_minor": 4
}
