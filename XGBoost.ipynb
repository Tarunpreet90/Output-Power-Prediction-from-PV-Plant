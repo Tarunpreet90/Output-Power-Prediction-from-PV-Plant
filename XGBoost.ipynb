{
 "cells": [
  {
   "cell_type": "code",
   "execution_count": 1,
   "metadata": {},
   "outputs": [],
   "source": [
    "# Import Basic Libraries\n",
    "import os\n",
    "import sys\n",
    "import pandas as pd\n",
    "import numpy as np\n",
    "import seaborn as sns\n",
    "import matplotlib.pyplot as plt\n",
    "from sklearn.preprocessing import StandardScaler\n",
    "from sklearn.model_selection import train_test_split\n",
    "from sklearn import metrics\n",
    "from sklearn.metrics import accuracy_score,r2_score\n",
    "from sklearn.metrics import mean_squared_error\n",
    "from sklearn.metrics import mean_absolute_error\n",
    "from sklearn.metrics import mean_absolute_percentage_error\n",
    "import pickle\n",
    "import math\n",
    "import joblib\n",
    "from sklearn.model_selection import StratifiedKFold\n",
    "from sklearn.model_selection import GridSearchCV"
   ]
  },
  {
   "cell_type": "code",
   "execution_count": 2,
   "metadata": {},
   "outputs": [
    {
     "name": "stdout",
     "output_type": "stream",
     "text": [
      "Requirement already satisfied: xgboost in /home/tarunpreet/.local/lib/python3.8/site-packages (1.7.4)\n",
      "Requirement already satisfied: numpy in /home/tarunpreet/anaconda3/lib/python3.8/site-packages (from xgboost) (1.23.4)\n",
      "Requirement already satisfied: scipy in /home/tarunpreet/.local/lib/python3.8/site-packages (from xgboost) (1.10.1)\n",
      "Note: you may need to restart the kernel to use updated packages.\n"
     ]
    }
   ],
   "source": [
    "pip install xgboost"
   ]
  },
  {
   "cell_type": "code",
   "execution_count": 3,
   "metadata": {},
   "outputs": [],
   "source": [
    "import xgboost as xgb"
   ]
  },
  {
   "cell_type": "code",
   "execution_count": 4,
   "metadata": {},
   "outputs": [],
   "source": [
    "# Create function to calculate root mean square error\n",
    "def rmse(predictions, targets):\n",
    "    return np.sqrt(((predictions - targets) ** 2).mean())"
   ]
  },
  {
   "cell_type": "code",
   "execution_count": 5,
   "metadata": {},
   "outputs": [],
   "source": [
    "# Read csv file\n",
    "df=pd.read_csv('/home/tarunpreet/Desktop/Suraj/org_update.csv')"
   ]
  },
  {
   "cell_type": "code",
   "execution_count": 6,
   "metadata": {},
   "outputs": [],
   "source": [
    "#Groupby dataframe \n",
    "\n",
    "newdf=df.groupby(['Month','Day']).agg({'Temp': ['mean'],'DHI':['mean'],'DNI':['mean'],'GHI':['mean'],\n",
    "                                      'WindVel':['mean'],'Output_Power':['mean']})\n",
    "newdf = newdf.reset_index()\n",
    "newdf.columns=['Month','Day','Temp_Mean','DHI_Mean','DNI_Mean','GHI_Mean','WindVel_Mean','Output_Power_Mean']\n",
    "newdf.to_csv('./avg.csv')"
   ]
  },
  {
   "cell_type": "code",
   "execution_count": 7,
   "metadata": {},
   "outputs": [],
   "source": [
    "# Drop unnecessary columns in dataset\n",
    "newdf1=newdf.drop(labels=['Month','Day'],axis=1)\n",
    "X_data=newdf1.drop(labels=['Output_Power_Mean'],axis=1)\n",
    "Y_data=newdf1['Output_Power_Mean']"
   ]
  },
  {
   "cell_type": "code",
   "execution_count": 8,
   "metadata": {},
   "outputs": [],
   "source": [
    "# Scale the dataset to ensure that features are within the same scale using Standard Scaler\n",
    "Xscaler = StandardScaler()\n",
    "Xscaler.fit(X_data)\n",
    "SXdata= Xscaler.transform(X_data)"
   ]
  },
  {
   "cell_type": "code",
   "execution_count": 9,
   "metadata": {},
   "outputs": [],
   "source": [
    "Yscaler = StandardScaler()\n",
    "Y_data=Y_data.to_numpy().reshape(-1,1)\n",
    "Yscaler.fit(Y_data)\n",
    "SYdata= Yscaler.transform(Y_data)"
   ]
  },
  {
   "cell_type": "code",
   "execution_count": 10,
   "metadata": {},
   "outputs": [],
   "source": [
    "# Split data into windows\n",
    "\n",
    "window_size=10\n",
    "predictions=1\n",
    "x=[]\n",
    "y=[]\n",
    "for i in range(0, len(newdf1.index)-10, predictions):\n",
    "    x.append(SXdata[i:window_size+i])\n",
    "    y.append(SYdata[window_size+i])"
   ]
  },
  {
   "cell_type": "code",
   "execution_count": 14,
   "metadata": {},
   "outputs": [
    {
     "name": "stdout",
     "output_type": "stream",
     "text": [
      "(255, 10, 5) (255, 1) (64, 10, 5) (64, 1)\n"
     ]
    }
   ],
   "source": [
    "# Train Test Split\n",
    "X_train,X_test,Y_train,Y_test=train_test_split(np.array(x), np.array(y),test_size=0.20,random_state=42)\n",
    "print(X_train.shape,Y_train.shape,X_test.shape,Y_test.shape)"
   ]
  },
  {
   "cell_type": "code",
   "execution_count": 15,
   "metadata": {},
   "outputs": [
    {
     "name": "stdout",
     "output_type": "stream",
     "text": [
      "X_train shape: (255, 50)\n",
      "X_test shape: (64, 50)\n"
     ]
    }
   ],
   "source": [
    "#Reshape train and test dataset for xgboost model\n",
    "X_train = X_train.reshape(X_train.shape[0], -1)\n",
    "X_test = X_test.reshape(X_test.shape[0], -1)\n",
    "\n",
    "print(f\"X_train shape: {X_train.shape}\")\n",
    "print(f\"X_test shape: {X_test.shape}\")"
   ]
  },
  {
   "cell_type": "code",
   "execution_count": 22,
   "metadata": {},
   "outputs": [
    {
     "name": "stdout",
     "output_type": "stream",
     "text": [
      "Best: -0.540764 using {'max_depth': 7, 'n_estimators': 200, 'reg_lambda': 0.2} for XGBRegressor(base_score=None, booster=None, callbacks=None,\n",
      "             colsample_bylevel=None, colsample_bynode=None,\n",
      "             colsample_bytree=None, early_stopping_rounds=None,\n",
      "             enable_categorical=False, eval_metric=None, feature_types=None,\n",
      "             gamma=None, gpu_id=None, grow_policy=None, importance_type=None,\n",
      "             interaction_constraints=None, learning_rate=None, max_bin=None,\n",
      "             max_cat_threshold=None, max_cat_to_onehot=None,\n",
      "             max_delta_step=None, max_depth=7, max_leaves=None,\n",
      "             min_child_weight=None, missing=nan, monotone_constraints=None,\n",
      "             n_estimators=200, n_jobs=None, num_parallel_tree=None,\n",
      "             predictor=None, random_state=None, ...)\n"
     ]
    }
   ],
   "source": [
    "cv = StratifiedKFold(n_splits=5,random_state=1,shuffle=True)\n",
    "param_xgb = {'n_estimators': [200, 190, 180, 170, 160,150,140,130,120,110,100], 'max_depth': [6,7, 8], 'reg_lambda' :[0.25, 0.2,0.15]}\n",
    "XGB_reg=GridSearchCV(xgb.XGBRegressor(), param_xgb, scoring='neg_mean_absolute_error', cv=3, return_train_score=True,n_jobs=-1)\n",
    "optimized_xgb_reg=XGB_reg.fit(X_train,Y_train)\n",
    "print(\"Best: %f using %s for %s\" % (optimized_xgb_reg.best_score_,optimized_xgb_reg.best_params_,optimized_xgb_reg.best_estimator_))\n",
    "model=optimized_xgb_reg.best_estimator_"
   ]
  },
  {
   "cell_type": "code",
   "execution_count": 23,
   "metadata": {},
   "outputs": [
    {
     "data": {
      "text/html": [
       "<style>#sk-container-id-1 {color: black;background-color: white;}#sk-container-id-1 pre{padding: 0;}#sk-container-id-1 div.sk-toggleable {background-color: white;}#sk-container-id-1 label.sk-toggleable__label {cursor: pointer;display: block;width: 100%;margin-bottom: 0;padding: 0.3em;box-sizing: border-box;text-align: center;}#sk-container-id-1 label.sk-toggleable__label-arrow:before {content: \"▸\";float: left;margin-right: 0.25em;color: #696969;}#sk-container-id-1 label.sk-toggleable__label-arrow:hover:before {color: black;}#sk-container-id-1 div.sk-estimator:hover label.sk-toggleable__label-arrow:before {color: black;}#sk-container-id-1 div.sk-toggleable__content {max-height: 0;max-width: 0;overflow: hidden;text-align: left;background-color: #f0f8ff;}#sk-container-id-1 div.sk-toggleable__content pre {margin: 0.2em;color: black;border-radius: 0.25em;background-color: #f0f8ff;}#sk-container-id-1 input.sk-toggleable__control:checked~div.sk-toggleable__content {max-height: 200px;max-width: 100%;overflow: auto;}#sk-container-id-1 input.sk-toggleable__control:checked~label.sk-toggleable__label-arrow:before {content: \"▾\";}#sk-container-id-1 div.sk-estimator input.sk-toggleable__control:checked~label.sk-toggleable__label {background-color: #d4ebff;}#sk-container-id-1 div.sk-label input.sk-toggleable__control:checked~label.sk-toggleable__label {background-color: #d4ebff;}#sk-container-id-1 input.sk-hidden--visually {border: 0;clip: rect(1px 1px 1px 1px);clip: rect(1px, 1px, 1px, 1px);height: 1px;margin: -1px;overflow: hidden;padding: 0;position: absolute;width: 1px;}#sk-container-id-1 div.sk-estimator {font-family: monospace;background-color: #f0f8ff;border: 1px dotted black;border-radius: 0.25em;box-sizing: border-box;margin-bottom: 0.5em;}#sk-container-id-1 div.sk-estimator:hover {background-color: #d4ebff;}#sk-container-id-1 div.sk-parallel-item::after {content: \"\";width: 100%;border-bottom: 1px solid gray;flex-grow: 1;}#sk-container-id-1 div.sk-label:hover label.sk-toggleable__label {background-color: #d4ebff;}#sk-container-id-1 div.sk-serial::before {content: \"\";position: absolute;border-left: 1px solid gray;box-sizing: border-box;top: 0;bottom: 0;left: 50%;z-index: 0;}#sk-container-id-1 div.sk-serial {display: flex;flex-direction: column;align-items: center;background-color: white;padding-right: 0.2em;padding-left: 0.2em;position: relative;}#sk-container-id-1 div.sk-item {position: relative;z-index: 1;}#sk-container-id-1 div.sk-parallel {display: flex;align-items: stretch;justify-content: center;background-color: white;position: relative;}#sk-container-id-1 div.sk-item::before, #sk-container-id-1 div.sk-parallel-item::before {content: \"\";position: absolute;border-left: 1px solid gray;box-sizing: border-box;top: 0;bottom: 0;left: 50%;z-index: -1;}#sk-container-id-1 div.sk-parallel-item {display: flex;flex-direction: column;z-index: 1;position: relative;background-color: white;}#sk-container-id-1 div.sk-parallel-item:first-child::after {align-self: flex-end;width: 50%;}#sk-container-id-1 div.sk-parallel-item:last-child::after {align-self: flex-start;width: 50%;}#sk-container-id-1 div.sk-parallel-item:only-child::after {width: 0;}#sk-container-id-1 div.sk-dashed-wrapped {border: 1px dashed gray;margin: 0 0.4em 0.5em 0.4em;box-sizing: border-box;padding-bottom: 0.4em;background-color: white;}#sk-container-id-1 div.sk-label label {font-family: monospace;font-weight: bold;display: inline-block;line-height: 1.2em;}#sk-container-id-1 div.sk-label-container {text-align: center;}#sk-container-id-1 div.sk-container {/* jupyter's `normalize.less` sets `[hidden] { display: none; }` but bootstrap.min.css set `[hidden] { display: none !important; }` so we also need the `!important` here to be able to override the default hidden behavior on the sphinx rendered scikit-learn.org. See: https://github.com/scikit-learn/scikit-learn/issues/21755 */display: inline-block !important;position: relative;}#sk-container-id-1 div.sk-text-repr-fallback {display: none;}</style><div id=\"sk-container-id-1\" class=\"sk-top-container\"><div class=\"sk-text-repr-fallback\"><pre>XGBRegressor(base_score=None, booster=None, callbacks=None,\n",
       "             colsample_bylevel=None, colsample_bynode=None,\n",
       "             colsample_bytree=None, early_stopping_rounds=None,\n",
       "             enable_categorical=False, eval_metric=None, feature_types=None,\n",
       "             gamma=None, gpu_id=None, grow_policy=None, importance_type=None,\n",
       "             interaction_constraints=None, learning_rate=None, max_bin=None,\n",
       "             max_cat_threshold=None, max_cat_to_onehot=None,\n",
       "             max_delta_step=None, max_depth=7, max_leaves=None,\n",
       "             min_child_weight=None, missing=nan, monotone_constraints=None,\n",
       "             n_estimators=200, n_jobs=None, num_parallel_tree=None,\n",
       "             predictor=None, random_state=None, ...)</pre><b>In a Jupyter environment, please rerun this cell to show the HTML representation or trust the notebook. <br />On GitHub, the HTML representation is unable to render, please try loading this page with nbviewer.org.</b></div><div class=\"sk-container\" hidden><div class=\"sk-item\"><div class=\"sk-estimator sk-toggleable\"><input class=\"sk-toggleable__control sk-hidden--visually\" id=\"sk-estimator-id-1\" type=\"checkbox\" checked><label for=\"sk-estimator-id-1\" class=\"sk-toggleable__label sk-toggleable__label-arrow\">XGBRegressor</label><div class=\"sk-toggleable__content\"><pre>XGBRegressor(base_score=None, booster=None, callbacks=None,\n",
       "             colsample_bylevel=None, colsample_bynode=None,\n",
       "             colsample_bytree=None, early_stopping_rounds=None,\n",
       "             enable_categorical=False, eval_metric=None, feature_types=None,\n",
       "             gamma=None, gpu_id=None, grow_policy=None, importance_type=None,\n",
       "             interaction_constraints=None, learning_rate=None, max_bin=None,\n",
       "             max_cat_threshold=None, max_cat_to_onehot=None,\n",
       "             max_delta_step=None, max_depth=7, max_leaves=None,\n",
       "             min_child_weight=None, missing=nan, monotone_constraints=None,\n",
       "             n_estimators=200, n_jobs=None, num_parallel_tree=None,\n",
       "             predictor=None, random_state=None, ...)</pre></div></div></div></div></div>"
      ],
      "text/plain": [
       "XGBRegressor(base_score=None, booster=None, callbacks=None,\n",
       "             colsample_bylevel=None, colsample_bynode=None,\n",
       "             colsample_bytree=None, early_stopping_rounds=None,\n",
       "             enable_categorical=False, eval_metric=None, feature_types=None,\n",
       "             gamma=None, gpu_id=None, grow_policy=None, importance_type=None,\n",
       "             interaction_constraints=None, learning_rate=None, max_bin=None,\n",
       "             max_cat_threshold=None, max_cat_to_onehot=None,\n",
       "             max_delta_step=None, max_depth=7, max_leaves=None,\n",
       "             min_child_weight=None, missing=nan, monotone_constraints=None,\n",
       "             n_estimators=200, n_jobs=None, num_parallel_tree=None,\n",
       "             predictor=None, random_state=None, ...)"
      ]
     },
     "execution_count": 23,
     "metadata": {},
     "output_type": "execute_result"
    }
   ],
   "source": [
    "model.fit(X_train, Y_train) "
   ]
  },
  {
   "cell_type": "code",
   "execution_count": 24,
   "metadata": {},
   "outputs": [],
   "source": [
    "# Test the model\n",
    "ytrain_pred=model.predict(X_train)\n",
    "ytest_pred =model.predict(X_test)\n",
    "Ytrain_pred=ytrain_pred.reshape(-1,1)\n",
    "Ytest_pred=ytest_pred.reshape(-1,1)"
   ]
  },
  {
   "cell_type": "code",
   "execution_count": 25,
   "metadata": {},
   "outputs": [
    {
     "name": "stdout",
     "output_type": "stream",
     "text": [
      "Predicted values [[4285.8257  ]\n",
      " [ 866.3207  ]\n",
      " [1433.7875  ]\n",
      " [1339.7949  ]\n",
      " [1715.3164  ]\n",
      " [4471.6997  ]\n",
      " [1842.3773  ]\n",
      " [1894.5232  ]\n",
      " [3775.8953  ]\n",
      " [2158.9978  ]\n",
      " [ 457.36267 ]\n",
      " [2651.1335  ]\n",
      " [1583.748   ]\n",
      " [2358.47    ]\n",
      " [1645.688   ]\n",
      " [3035.7896  ]\n",
      " [2129.2888  ]\n",
      " [2775.5308  ]\n",
      " [ 144.4469  ]\n",
      " [2848.2966  ]\n",
      " [2185.5315  ]\n",
      " [2045.355   ]\n",
      " [1071.8708  ]\n",
      " [3075.729   ]\n",
      " [3348.905   ]\n",
      " [1988.8569  ]\n",
      " [ 181.02026 ]\n",
      " [1480.2792  ]\n",
      " [4356.524   ]\n",
      " [2040.4159  ]\n",
      " [2609.8433  ]\n",
      " [ 521.3617  ]\n",
      " [1532.0814  ]\n",
      " [ 418.0996  ]\n",
      " [ 110.232414]\n",
      " [3154.055   ]\n",
      " [ 806.10126 ]\n",
      " [1468.2576  ]\n",
      " [2656.226   ]\n",
      " [1036.0171  ]\n",
      " [ 296.80872 ]\n",
      " [2104.9653  ]\n",
      " [ 476.10413 ]\n",
      " [ 308.38586 ]\n",
      " [1310.6733  ]\n",
      " [ 694.38745 ]\n",
      " [2438.0508  ]\n",
      " [2661.2852  ]\n",
      " [1314.7725  ]\n",
      " [2923.5295  ]\n",
      " [1774.1819  ]\n",
      " [2028.2389  ]\n",
      " [1898.408   ]\n",
      " [1251.6854  ]\n",
      " [ 553.0493  ]\n",
      " [1497.0099  ]\n",
      " [2893.4602  ]\n",
      " [3237.0276  ]\n",
      " [1557.4438  ]\n",
      " [1016.64386 ]\n",
      " [1231.9893  ]\n",
      " [3969.9058  ]\n",
      " [4018.2087  ]\n",
      " [1455.6827  ]]\n",
      "Actual values [[1186.93875   ]\n",
      " [2021.54666667]\n",
      " [1775.45416667]\n",
      " [2336.17333333]\n",
      " [1199.94208333]\n",
      " [2722.03416667]\n",
      " [1633.24375   ]\n",
      " [2084.32916667]\n",
      " [3856.09333333]\n",
      " [2395.29708333]\n",
      " [ 327.66666667]\n",
      " [2820.7225    ]\n",
      " [1050.69291667]\n",
      " [2387.71125   ]\n",
      " [1236.29833333]\n",
      " [3684.55416667]\n",
      " [2338.21875   ]\n",
      " [2788.14666667]\n",
      " [ 116.55458333]\n",
      " [3411.74791667]\n",
      " [1715.57333333]\n",
      " [2413.19020833]\n",
      " [1301.55916667]\n",
      " [5289.48625   ]\n",
      " [1120.86833333]\n",
      " [3529.37875   ]\n",
      " [  43.00041667]\n",
      " [ 190.13      ]\n",
      " [5090.88875   ]\n",
      " [2030.29333333]\n",
      " [1994.55416667]\n",
      " [ 379.74958333]\n",
      " [1628.385     ]\n",
      " [ 303.10791667]\n",
      " [ 170.06541667]\n",
      " [3642.56791667]\n",
      " [1818.02958333]\n",
      " [2215.26      ]\n",
      " [1749.98916667]\n",
      " [1782.54375   ]\n",
      " [ 472.6475    ]\n",
      " [1956.94291667]\n",
      " [ 205.1725    ]\n",
      " [ 676.45916667]\n",
      " [2966.24375   ]\n",
      " [ 889.99791667]\n",
      " [2054.97541667]\n",
      " [2127.775     ]\n",
      " [2435.33458333]\n",
      " [2757.345     ]\n",
      " [2871.42375   ]\n",
      " [ 323.42791667]\n",
      " [2621.48333333]\n",
      " [3347.47458333]\n",
      " [1067.04458333]\n",
      " [1766.79958333]\n",
      " [3444.83125   ]\n",
      " [3699.42708333]\n",
      " [ 273.03041667]\n",
      " [2237.005     ]\n",
      " [1900.06375   ]\n",
      " [3664.16833333]\n",
      " [4943.98541667]\n",
      " [2086.11677083]]\n"
     ]
    }
   ],
   "source": [
    "# Tranform the scale data\n",
    "trainPredict = Yscaler.inverse_transform(Ytrain_pred)\n",
    "testPredict = Yscaler.inverse_transform(Ytest_pred)\n",
    "Y_Train=Yscaler.inverse_transform(Y_train)\n",
    "Y_Test = Yscaler.inverse_transform(Y_test)\n",
    "print(\"Predicted values\",testPredict)\n",
    "print(\"Actual values\",Y_Test)"
   ]
  },
  {
   "cell_type": "code",
   "execution_count": 26,
   "metadata": {},
   "outputs": [
    {
     "name": "stdout",
     "output_type": "stream",
     "text": [
      "mean square error 857191.8234380368\n",
      "mean absolute error 670.7281216096878\n",
      "mean abs_percentage_error 0.6549420047419973\n",
      "root_mean square error 925.8465442167168\n",
      "R2_score: 0.4485107116527901\n"
     ]
    }
   ],
   "source": [
    "# Evaluate the model using Regression Metrics\n",
    "mse = mean_squared_error(Y_Test, testPredict)\n",
    "mae = mean_absolute_error(Y_Test, testPredict)\n",
    "mape = mean_absolute_percentage_error(Y_Test, testPredict)\n",
    "rms_error = rmse(Y_Test, testPredict)\n",
    "R2_score=metrics.r2_score(Y_Test, testPredict)\n",
    "print('mean square error',mse)\n",
    "print('mean absolute error',mae)\n",
    "print('mean abs_percentage_error',mape)\n",
    "print('root_mean square error',rms_error)\n",
    "print('R2_score:', R2_score)"
   ]
  },
  {
   "cell_type": "code",
   "execution_count": 27,
   "metadata": {},
   "outputs": [
    {
     "data": {
      "image/png": "[encoded data removed]",
      "text/plain": [
       "<Figure size 432x288 with 1 Axes>"
      ]
     },
     "metadata": {
      "needs_background": "light"
     },
     "output_type": "display_data"
    }
   ],
   "source": [
    "plt.plot(testPredict)\n",
    "plt.plot(Y_Test)\n",
    "plt.title('Comparison of predicted and actual values')\n",
    "plt.ylabel('Output Power')\n",
    "plt.xlabel('Day')\n",
    "plt.legend(['Predicted values', 'Actual Values'])\n",
    "plt.show()"
   ]
  },
  {
   "cell_type": "code",
   "execution_count": null,
   "metadata": {},
   "outputs": [],
   "source": []
  }
 ],
 "metadata": {
  "kernelspec": {
   "display_name": "Python 3 (ipykernel)",
   "language": "python",
   "name": "python3"
  },
  "language_info": {
   "codemirror_mode": {
    "name": "ipython",
    "version": 3
   },
   "file_extension": ".py",
   "mimetype": "text/x-python",
   "name": "python",
   "nbconvert_exporter": "python",
   "pygments_lexer": "ipython3",
   "version": "3.8.12"
  }
 },
 "nbformat": 4,
 "nbformat_minor": 4
}
