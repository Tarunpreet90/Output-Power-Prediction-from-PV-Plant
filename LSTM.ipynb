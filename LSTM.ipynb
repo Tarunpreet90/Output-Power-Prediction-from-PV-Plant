{
 "cells": [
  {
   "cell_type": "code",
   "execution_count": 1,
   "metadata": {},
   "outputs": [
    {
     "name": "stderr",
     "output_type": "stream",
     "text": [
      "2023-04-08 02:14:17.641592: I tensorflow/core/platform/cpu_feature_guard.cc:193] This TensorFlow binary is optimized with oneAPI Deep Neural Network Library (oneDNN) to use the following CPU instructions in performance-critical operations:  AVX2 AVX512F AVX512_VNNI FMA\n",
      "To enable them in other operations, rebuild TensorFlow with the appropriate compiler flags.\n",
      "2023-04-08 02:14:17.885188: I tensorflow/core/util/port.cc:104] oneDNN custom operations are on. You may see slightly different numerical results due to floating-point round-off errors from different computation orders. To turn them off, set the environment variable `TF_ENABLE_ONEDNN_OPTS=0`.\n",
      "2023-04-08 02:14:17.919359: W tensorflow/compiler/xla/stream_executor/platform/default/dso_loader.cc:64] Could not load dynamic library 'libcudart.so.11.0'; dlerror: libcudart.so.11.0: cannot open shared object file: No such file or directory\n",
      "2023-04-08 02:14:17.919374: I tensorflow/compiler/xla/stream_executor/cuda/cudart_stub.cc:29] Ignore above cudart dlerror if you do not have a GPU set up on your machine.\n",
      "2023-04-08 02:14:18.713065: W tensorflow/compiler/xla/stream_executor/platform/default/dso_loader.cc:64] Could not load dynamic library 'libnvinfer.so.7'; dlerror: libnvinfer.so.7: cannot open shared object file: No such file or directory\n",
      "2023-04-08 02:14:18.713341: W tensorflow/compiler/xla/stream_executor/platform/default/dso_loader.cc:64] Could not load dynamic library 'libnvinfer_plugin.so.7'; dlerror: libnvinfer_plugin.so.7: cannot open shared object file: No such file or directory\n",
      "2023-04-08 02:14:18.713347: W tensorflow/compiler/tf2tensorrt/utils/py_utils.cc:38] TF-TRT Warning: Cannot dlopen some TensorRT libraries. If you would like to use Nvidia GPU with TensorRT, please make sure the missing libraries mentioned above are installed properly.\n"
     ]
    }
   ],
   "source": [
    "# Import Basic Libraries\n",
    "import os\n",
    "import sys\n",
    "import pandas as pd\n",
    "import numpy as np\n",
    "import seaborn as sns\n",
    "import matplotlib.pyplot as plt\n",
    "from sklearn.preprocessing import StandardScaler\n",
    "from sklearn.model_selection import train_test_split\n",
    "from sklearn import metrics\n",
    "from sklearn.metrics import accuracy_score,r2_score\n",
    "from sklearn.metrics import mean_squared_error\n",
    "from sklearn.metrics import mean_absolute_error\n",
    "from sklearn.metrics import mean_absolute_percentage_error\n",
    "import pickle\n",
    "import math\n",
    "import joblib\n",
    "\n",
    "# Import Neural Network Libraries\n",
    "import tensorflow as tf\n",
    "from tensorflow import keras\n",
    "from keras.models import Sequential\n",
    "from keras.layers import Dense, SimpleRNN, LSTM, Dropout,Bidirectional\n",
    "from keras.layers.core import Dense, Activation, Dropout\n",
    "from tensorflow.keras.losses import MeanSquaredLogarithmicError\n",
    "from keras.optimizers import Adam, SGD, RMSprop, Adadelta, Adagrad, Adamax, Nadam, Ftrl\n",
    "from keras.callbacks import EarlyStopping, ModelCheckpoint"
   ]
  },
  {
   "cell_type": "code",
   "execution_count": 2,
   "metadata": {},
   "outputs": [],
   "source": [
    "# Create function to calculate root mean square error\n",
    "def rmse(predictions, targets):\n",
    "    return np.sqrt(((predictions - targets) ** 2).mean())"
   ]
  },
  {
   "cell_type": "code",
   "execution_count": 3,
   "metadata": {},
   "outputs": [],
   "source": [
    "# Read csv file\n",
    "df=pd.read_csv('/home/tarunpreet/Desktop/Suraj/org_update.csv')"
   ]
  },
  {
   "cell_type": "code",
   "execution_count": 4,
   "metadata": {},
   "outputs": [],
   "source": [
    "#Groupby dataframe \n",
    "\n",
    "newdf=df.groupby(['Month','Day']).agg({'Temp': ['mean'],'DHI':['mean'],'DNI':['mean'],'GHI':['mean'],\n",
    "                                      'WindVel':['mean'],'Output_Power':['mean']})\n",
    "newdf = newdf.reset_index()\n",
    "newdf.columns=['Month','Day','Temp_Mean','DHI_Mean','DNI_Mean','GHI_Mean','WindVel_Mean','Output_Power_Mean']\n",
    "newdf.to_csv('./avg.csv')"
   ]
  },
  {
   "cell_type": "code",
   "execution_count": 13,
   "metadata": {},
   "outputs": [],
   "source": [
    "# Drop unnecessary columns in dataset\n",
    "newdf1=newdf.drop(labels=['Month','Day'],axis=1)\n",
    "X_data=newdf1.drop(labels=['Output_Power_Mean'],axis=1)\n",
    "Y_data=newdf1['Output_Power_Mean']"
   ]
  },
  {
   "cell_type": "code",
   "execution_count": 14,
   "metadata": {},
   "outputs": [],
   "source": [
    "# Scale the dataset to ensure that features are within the same scale using Standard Scaler\n",
    "Xscaler = StandardScaler()\n",
    "Xscaler.fit(X_data)\n",
    "SXdata= Xscaler.transform(X_data)"
   ]
  },
  {
   "cell_type": "code",
   "execution_count": 15,
   "metadata": {},
   "outputs": [],
   "source": [
    "Yscaler = StandardScaler()\n",
    "Y_data=Y_data.to_numpy().reshape(-1,1)\n",
    "Yscaler.fit(Y_data)\n",
    "SYdata= Yscaler.transform(Y_data)"
   ]
  },
  {
   "cell_type": "code",
   "execution_count": 16,
   "metadata": {},
   "outputs": [],
   "source": [
    "# Split data into windows\n",
    "window_size=10\n",
    "predictions=1\n",
    "x=[]\n",
    "y=[]\n",
    "for i in range(0, len(newdf1.index)-10, predictions):\n",
    "    x.append(SXdata[i:window_size+i])\n",
    "    y.append(SYdata[window_size+i])"
   ]
  },
  {
   "cell_type": "code",
   "execution_count": 20,
   "metadata": {},
   "outputs": [
    {
     "name": "stdout",
     "output_type": "stream",
     "text": [
      "(255, 10, 5) (255, 1) (64, 10, 5) (64, 1)\n"
     ]
    }
   ],
   "source": [
    "# Train Test Split\n",
    "X_train,X_test,Y_train,Y_test=train_test_split(np.array(x), np.array(y),test_size=0.20,random_state=42)\n",
    "print(X_train.shape,Y_train.shape,X_test.shape,Y_test.shape)"
   ]
  },
  {
   "cell_type": "code",
   "execution_count": 24,
   "metadata": {},
   "outputs": [],
   "source": [
    "#Reshape train and test set for LSTM Model\n",
    "\n",
    "trainX = X_train.reshape(X_train.shape[0],X_train.shape[1],X_train.shape[2])\n",
    "testX = X_test.reshape(X_test.shape[0],X_test.shape[1],X_test.shape[2])"
   ]
  },
  {
   "cell_type": "code",
   "execution_count": 27,
   "metadata": {},
   "outputs": [
    {
     "name": "stdout",
     "output_type": "stream",
     "text": [
      "model used in LSTM\n",
      "Model: \"sequential_2\"\n",
      "_________________________________________________________________\n",
      " Layer (type)                Output Shape              Param #   \n",
      "=================================================================\n",
      " lstm_2 (LSTM)               (None, 10, 30)            4320      \n",
      "                                                                 \n",
      " lstm_3 (LSTM)               (None, 10)                1640      \n",
      "                                                                 \n",
      " dense_2 (Dense)             (None, 5)                 55        \n",
      "                                                                 \n",
      " dense_3 (Dense)             (None, 1)                 6         \n",
      "                                                                 \n",
      "=================================================================\n",
      "Total params: 6,021\n",
      "Trainable params: 6,021\n",
      "Non-trainable params: 0\n",
      "_________________________________________________________________\n"
     ]
    }
   ],
   "source": [
    "# Define Long Short Term Memory (LSTM Model)\n",
    "print('model used in LSTM')\n",
    "lstm = Sequential()\n",
    "lstm.add(LSTM(input_shape = (10,5),units= 30,  activation='relu',return_sequences = True))\n",
    "lstm.add(LSTM(10))\n",
    "lstm.add(Dense(5, activation='relu'))\n",
    "lstm.add(Dense(1))\n",
    "lstm.summary()"
   ]
  },
  {
   "cell_type": "code",
   "execution_count": 28,
   "metadata": {},
   "outputs": [],
   "source": [
    "# Early stopping stop training once the model performance stops improving\n",
    "early_stopping = tf.keras.callbacks.EarlyStopping(monitor='val_loss',patience=2,mode='min')"
   ]
  },
  {
   "cell_type": "code",
   "execution_count": 29,
   "metadata": {},
   "outputs": [
    {
     "name": "stdout",
     "output_type": "stream",
     "text": [
      "Epoch 1/100\n",
      "3/3 [==============================] - 3s 256ms/step - loss: 1.0288 - mae: 0.8460 - val_loss: 0.9503 - val_mae: 0.7944\n",
      "Epoch 2/100\n",
      "3/3 [==============================] - 0s 24ms/step - loss: 1.0109 - mae: 0.8363 - val_loss: 0.9363 - val_mae: 0.7856\n",
      "Epoch 3/100\n",
      "3/3 [==============================] - 0s 22ms/step - loss: 0.9930 - mae: 0.8263 - val_loss: 0.9206 - val_mae: 0.7779\n",
      "Epoch 4/100\n",
      "3/3 [==============================] - 0s 21ms/step - loss: 0.9758 - mae: 0.8160 - val_loss: 0.9032 - val_mae: 0.7686\n",
      "Epoch 5/100\n",
      "3/3 [==============================] - 0s 17ms/step - loss: 0.9571 - mae: 0.8038 - val_loss: 0.8848 - val_mae: 0.7578\n",
      "Epoch 6/100\n",
      "3/3 [==============================] - 0s 17ms/step - loss: 0.9344 - mae: 0.7877 - val_loss: 0.8657 - val_mae: 0.7452\n",
      "Epoch 7/100\n",
      "3/3 [==============================] - 0s 20ms/step - loss: 0.9145 - mae: 0.7713 - val_loss: 0.8457 - val_mae: 0.7305\n",
      "Epoch 8/100\n",
      "3/3 [==============================] - 0s 27ms/step - loss: 0.8928 - mae: 0.7529 - val_loss: 0.8261 - val_mae: 0.7141\n",
      "Epoch 9/100\n",
      "3/3 [==============================] - 0s 18ms/step - loss: 0.8750 - mae: 0.7360 - val_loss: 0.8086 - val_mae: 0.6971\n",
      "Epoch 10/100\n",
      "3/3 [==============================] - 0s 20ms/step - loss: 0.8560 - mae: 0.7191 - val_loss: 0.7955 - val_mae: 0.6839\n",
      "Epoch 11/100\n",
      "3/3 [==============================] - 0s 20ms/step - loss: 0.8389 - mae: 0.7070 - val_loss: 0.7832 - val_mae: 0.6759\n",
      "Epoch 12/100\n",
      "3/3 [==============================] - 0s 26ms/step - loss: 0.8227 - mae: 0.6978 - val_loss: 0.7727 - val_mae: 0.6716\n",
      "Epoch 13/100\n",
      "3/3 [==============================] - 0s 18ms/step - loss: 0.8059 - mae: 0.6897 - val_loss: 0.7635 - val_mae: 0.6669\n",
      "Epoch 14/100\n",
      "3/3 [==============================] - 0s 18ms/step - loss: 0.7944 - mae: 0.6867 - val_loss: 0.7565 - val_mae: 0.6642\n",
      "Epoch 15/100\n",
      "3/3 [==============================] - 0s 19ms/step - loss: 0.7780 - mae: 0.6791 - val_loss: 0.7430 - val_mae: 0.6552\n",
      "Epoch 16/100\n",
      "3/3 [==============================] - 0s 24ms/step - loss: 0.7636 - mae: 0.6699 - val_loss: 0.7306 - val_mae: 0.6479\n",
      "Epoch 17/100\n",
      "3/3 [==============================] - 0s 21ms/step - loss: 0.7503 - mae: 0.6629 - val_loss: 0.7194 - val_mae: 0.6423\n",
      "Epoch 18/100\n",
      "3/3 [==============================] - 0s 23ms/step - loss: 0.7336 - mae: 0.6556 - val_loss: 0.7088 - val_mae: 0.6370\n",
      "Epoch 19/100\n",
      "3/3 [==============================] - 0s 21ms/step - loss: 0.7207 - mae: 0.6513 - val_loss: 0.7006 - val_mae: 0.6350\n",
      "Epoch 20/100\n",
      "3/3 [==============================] - 0s 21ms/step - loss: 0.7065 - mae: 0.6474 - val_loss: 0.6913 - val_mae: 0.6297\n",
      "Epoch 21/100\n",
      "3/3 [==============================] - 0s 22ms/step - loss: 0.6932 - mae: 0.6415 - val_loss: 0.6814 - val_mae: 0.6216\n",
      "Epoch 22/100\n",
      "3/3 [==============================] - 0s 20ms/step - loss: 0.6794 - mae: 0.6337 - val_loss: 0.6732 - val_mae: 0.6170\n",
      "Epoch 23/100\n",
      "3/3 [==============================] - 0s 20ms/step - loss: 0.6660 - mae: 0.6304 - val_loss: 0.6671 - val_mae: 0.6166\n",
      "Epoch 24/100\n",
      "3/3 [==============================] - 0s 24ms/step - loss: 0.6550 - mae: 0.6290 - val_loss: 0.6574 - val_mae: 0.6106\n",
      "Epoch 25/100\n",
      "3/3 [==============================] - 0s 19ms/step - loss: 0.6405 - mae: 0.6225 - val_loss: 0.6436 - val_mae: 0.6003\n",
      "Epoch 26/100\n",
      "3/3 [==============================] - 0s 21ms/step - loss: 0.6260 - mae: 0.6122 - val_loss: 0.6275 - val_mae: 0.5882\n",
      "Epoch 27/100\n",
      "3/3 [==============================] - 0s 20ms/step - loss: 0.6113 - mae: 0.6017 - val_loss: 0.6134 - val_mae: 0.5814\n",
      "Epoch 28/100\n",
      "3/3 [==============================] - 0s 21ms/step - loss: 0.5925 - mae: 0.5941 - val_loss: 0.6010 - val_mae: 0.5811\n",
      "Epoch 29/100\n",
      "3/3 [==============================] - 0s 20ms/step - loss: 0.5733 - mae: 0.5875 - val_loss: 0.5899 - val_mae: 0.5795\n",
      "Epoch 30/100\n",
      "3/3 [==============================] - 0s 19ms/step - loss: 0.5529 - mae: 0.5774 - val_loss: 0.5771 - val_mae: 0.5711\n",
      "Epoch 31/100\n",
      "3/3 [==============================] - 0s 19ms/step - loss: 0.5294 - mae: 0.5619 - val_loss: 0.5663 - val_mae: 0.5666\n",
      "Epoch 32/100\n",
      "3/3 [==============================] - 0s 17ms/step - loss: 0.5072 - mae: 0.5473 - val_loss: 0.5554 - val_mae: 0.5638\n",
      "Epoch 33/100\n",
      "3/3 [==============================] - 0s 20ms/step - loss: 0.4797 - mae: 0.5317 - val_loss: 0.5478 - val_mae: 0.5645\n",
      "Epoch 34/100\n",
      "3/3 [==============================] - 0s 18ms/step - loss: 0.4579 - mae: 0.5222 - val_loss: 0.5373 - val_mae: 0.5516\n",
      "Epoch 35/100\n",
      "3/3 [==============================] - 0s 20ms/step - loss: 0.4372 - mae: 0.5072 - val_loss: 0.5243 - val_mae: 0.5346\n",
      "Epoch 36/100\n",
      "3/3 [==============================] - 0s 21ms/step - loss: 0.4240 - mae: 0.4975 - val_loss: 0.5162 - val_mae: 0.5279\n",
      "Epoch 37/100\n",
      "3/3 [==============================] - 0s 27ms/step - loss: 0.4125 - mae: 0.4867 - val_loss: 0.5141 - val_mae: 0.5335\n",
      "Epoch 38/100\n",
      "3/3 [==============================] - 0s 25ms/step - loss: 0.4030 - mae: 0.4847 - val_loss: 0.5303 - val_mae: 0.5504\n",
      "Epoch 39/100\n",
      "3/3 [==============================] - 0s 21ms/step - loss: 0.3989 - mae: 0.4832 - val_loss: 0.5243 - val_mae: 0.5315\n"
     ]
    },
    {
     "data": {
      "image/png": "[encoded data removed]",
      "text/plain": [
       "<Figure size 432x288 with 1 Axes>"
      ]
     },
     "metadata": {
      "needs_background": "light"
     },
     "output_type": "display_data"
    }
   ],
   "source": [
    "# Compile the model\n",
    "lstm.compile(loss='mse', optimizer='adam',metrics=['mae'])\n",
    "history_lstm = lstm.fit(trainX, Y_train, epochs = 100, verbose=1,validation_split=0.1,batch_size=100, callbacks=[early_stopping])\n",
    "plt.plot(history_lstm.history['loss'])\n",
    "plt.plot(history_lstm.history['val_loss'])\n",
    "plt.title('Model Loss Progression During Training/Validation')\n",
    "plt.ylabel('Training and Validation Losses')\n",
    "plt.xlabel('Epoch Number')\n",
    "plt.legend(['Training Loss', 'Validation Loss'])\n",
    "plt.show()"
   ]
  },
  {
   "cell_type": "code",
   "execution_count": 30,
   "metadata": {},
   "outputs": [
    {
     "name": "stdout",
     "output_type": "stream",
     "text": [
      "8/8 [==============================] - 0s 3ms/step\n",
      "2/2 [==============================] - 0s 3ms/step\n"
     ]
    }
   ],
   "source": [
    "# Test the model\n",
    "ytrain_pred=lstm.predict(trainX)\n",
    "ytest_pred = lstm.predict(testX)\n"
   ]
  },
  {
   "cell_type": "code",
   "execution_count": 31,
   "metadata": {},
   "outputs": [
    {
     "name": "stdout",
     "output_type": "stream",
     "text": [
      "Predicted values [[3597.3438  ]\n",
      " [1895.2709  ]\n",
      " [ 997.47577 ]\n",
      " [1869.4232  ]\n",
      " [1137.8065  ]\n",
      " [3557.9792  ]\n",
      " [1829.5133  ]\n",
      " [1749.267   ]\n",
      " [3624.7285  ]\n",
      " [3513.4026  ]\n",
      " [ 474.95142 ]\n",
      " [3587.853   ]\n",
      " [1666.2823  ]\n",
      " [1893.8463  ]\n",
      " [1651.4601  ]\n",
      " [3561.846   ]\n",
      " [1721.3265  ]\n",
      " [2220.4136  ]\n",
      " [ -16.255987]\n",
      " [1180.3027  ]\n",
      " [1475.5247  ]\n",
      " [1854.9985  ]\n",
      " [1891.8058  ]\n",
      " [3413.1636  ]\n",
      " [1329.2338  ]\n",
      " [3520.3376  ]\n",
      " [ 435.70374 ]\n",
      " [1581.2892  ]\n",
      " [3490.1113  ]\n",
      " [1637.4431  ]\n",
      " [3516.223   ]\n",
      " [ 816.8661  ]\n",
      " [1706.1971  ]\n",
      " [ 912.32544 ]\n",
      " [ 416.8817  ]\n",
      " [3517.252   ]\n",
      " [1789.0746  ]\n",
      " [1884.3258  ]\n",
      " [2809.593   ]\n",
      " [1802.5723  ]\n",
      " [1049.5841  ]\n",
      " [1671.234   ]\n",
      " [ 579.2167  ]\n",
      " [ 541.1511  ]\n",
      " [1871.4606  ]\n",
      " [ 711.9569  ]\n",
      " [2887.3857  ]\n",
      " [1298.2932  ]\n",
      " [1443.7552  ]\n",
      " [3389.8105  ]\n",
      " [3612.0566  ]\n",
      " [ 937.8281  ]\n",
      " [1562.407   ]\n",
      " [1579.3124  ]\n",
      " [ 932.387   ]\n",
      " [1683.2666  ]\n",
      " [3587.6353  ]\n",
      " [3597.4043  ]\n",
      " [ 922.2355  ]\n",
      " [1895.152   ]\n",
      " [1868.8717  ]\n",
      " [3466.235   ]\n",
      " [3628.8394  ]\n",
      " [3334.195   ]]\n",
      "Actual values [[1186.93875   ]\n",
      " [2021.54666667]\n",
      " [1775.45416667]\n",
      " [2336.17333333]\n",
      " [1199.94208333]\n",
      " [2722.03416667]\n",
      " [1633.24375   ]\n",
      " [2084.32916667]\n",
      " [3856.09333333]\n",
      " [2395.29708333]\n",
      " [ 327.66666667]\n",
      " [2820.7225    ]\n",
      " [1050.69291667]\n",
      " [2387.71125   ]\n",
      " [1236.29833333]\n",
      " [3684.55416667]\n",
      " [2338.21875   ]\n",
      " [2788.14666667]\n",
      " [ 116.55458333]\n",
      " [3411.74791667]\n",
      " [1715.57333333]\n",
      " [2413.19020833]\n",
      " [1301.55916667]\n",
      " [5289.48625   ]\n",
      " [1120.86833333]\n",
      " [3529.37875   ]\n",
      " [  43.00041667]\n",
      " [ 190.13      ]\n",
      " [5090.88875   ]\n",
      " [2030.29333333]\n",
      " [1994.55416667]\n",
      " [ 379.74958333]\n",
      " [1628.385     ]\n",
      " [ 303.10791667]\n",
      " [ 170.06541667]\n",
      " [3642.56791667]\n",
      " [1818.02958333]\n",
      " [2215.26      ]\n",
      " [1749.98916667]\n",
      " [1782.54375   ]\n",
      " [ 472.6475    ]\n",
      " [1956.94291667]\n",
      " [ 205.1725    ]\n",
      " [ 676.45916667]\n",
      " [2966.24375   ]\n",
      " [ 889.99791667]\n",
      " [2054.97541667]\n",
      " [2127.775     ]\n",
      " [2435.33458333]\n",
      " [2757.345     ]\n",
      " [2871.42375   ]\n",
      " [ 323.42791667]\n",
      " [2621.48333333]\n",
      " [3347.47458333]\n",
      " [1067.04458333]\n",
      " [1766.79958333]\n",
      " [3444.83125   ]\n",
      " [3699.42708333]\n",
      " [ 273.03041667]\n",
      " [2237.005     ]\n",
      " [1900.06375   ]\n",
      " [3664.16833333]\n",
      " [4943.98541667]\n",
      " [2086.11677083]]\n"
     ]
    }
   ],
   "source": [
    "# Tranform the scale data\n",
    "trainPredict = Yscaler.inverse_transform(ytrain_pred)\n",
    "testPredict = Yscaler.inverse_transform(ytest_pred)\n",
    "Y_Test = Yscaler.inverse_transform(Y_test)\n",
    "Y_Train=Yscaler.inverse_transform(Y_train)\n",
    "print(\"Predicted values\",testPredict)\n",
    "print(\"Actual values\",Y_Test)\n"
   ]
  },
  {
   "cell_type": "code",
   "execution_count": 32,
   "metadata": {},
   "outputs": [
    {
     "name": "stdout",
     "output_type": "stream",
     "text": [
      "Train Score 914.867402687886\n",
      "Test Score 818.4531203785064\n"
     ]
    }
   ],
   "source": [
    "# Compare train and test score to avoid overfitting\n",
    "train_score = math.sqrt(mean_squared_error(Y_Train, trainPredict))\n",
    "print('Train Score',train_score)\n",
    "test_score = math.sqrt(mean_squared_error(Y_Test, testPredict))\n",
    "print('Test Score', test_score)"
   ]
  },
  {
   "cell_type": "code",
   "execution_count": 33,
   "metadata": {},
   "outputs": [
    {
     "name": "stdout",
     "output_type": "stream",
     "text": [
      "mean square error 669865.5102573137\n",
      "mean absolute error 605.4303649524848\n",
      "mean abs_percentage_error 0.6999172271418098\n",
      "root_mean square error 818.4531203785064\n",
      "R2_score: 0.5690303576876677\n"
     ]
    }
   ],
   "source": [
    "# Evaluate the model using Regression Metrics\n",
    "mse = mean_squared_error(Y_Test, testPredict)\n",
    "mae = mean_absolute_error(Y_Test, testPredict)\n",
    "mape = mean_absolute_percentage_error(Y_Test, testPredict)\n",
    "rms_error = rmse(Y_Test, testPredict)\n",
    "R2_score=metrics.r2_score(Y_Test, testPredict)\n",
    "print('mean square error',mse)\n",
    "print('mean absolute error',mae)\n",
    "print('mean abs_percentage_error',mape)\n",
    "print('root_mean square error',rms_error)\n",
    "print('R2_score:', R2_score)\n"
   ]
  },
  {
   "cell_type": "code",
   "execution_count": 34,
   "metadata": {},
   "outputs": [
    {
     "data": {
      "image/png": "[encoded data removed]",
      "text/plain": [
       "<Figure size 432x288 with 1 Axes>"
      ]
     },
     "metadata": {
      "needs_background": "light"
     },
     "output_type": "display_data"
    }
   ],
   "source": [
    "plt.plot(testPredict)\n",
    "plt.plot(Y_Test)\n",
    "plt.title('Comparison of predicted and actual values')\n",
    "plt.ylabel('Output Power')\n",
    "plt.xlabel('Day')\n",
    "plt.legend(['Predicted values', 'Actual Values'])\n",
    "plt.show()"
   ]
  },
  {
   "cell_type": "code",
   "execution_count": null,
   "metadata": {},
   "outputs": [],
   "source": []
  }
 ],
 "metadata": {
  "kernelspec": {
   "display_name": "Python 3 (ipykernel)",
   "language": "python",
   "name": "python3"
  },
  "language_info": {
   "codemirror_mode": {
    "name": "ipython",
    "version": 3
   },
   "file_extension": ".py",
   "mimetype": "text/x-python",
   "name": "python",
   "nbconvert_exporter": "python",
   "pygments_lexer": "ipython3",
   "version": "3.8.12"
  }
 },
 "nbformat": 4,
 "nbformat_minor": 4
}
